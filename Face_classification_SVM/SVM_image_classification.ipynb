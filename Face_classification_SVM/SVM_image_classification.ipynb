{
 "cells": [
  {
   "cell_type": "code",
   "execution_count": 1,
   "metadata": {},
   "outputs": [],
   "source": [
    "import os\n",
    "import cv2\n",
    "import numpy as np\n",
    "from skimage.feature import hog\n",
    "import pandas as pd\n",
    "import csv\n",
    "from scipy import sparse\n",
    "from sklearn.decomposition import PCA\n",
    "from skimage.feature import local_binary_pattern\n",
    "from sklearn.decomposition import TruncatedSVD\n",
    "import matplotlib.pyplot as plt\n",
    "from sklearn import svm"
   ]
  },
  {
   "cell_type": "code",
   "execution_count": 2,
   "metadata": {},
   "outputs": [],
   "source": [
    "with open('train.csv', 'w', newline='', encoding='utf-8') as f1:\n",
    "    writer1 = csv.writer(f1)\n",
    "    r = ['path','label']\n",
    "    writer1.writerow(r)\n",
    "    path = 'C:\\\\Users\\\\ASUS\\\\MAI391_Project\\\\data_face'\n",
    "    list_folder = os.listdir(path)\n",
    "    for i in list_folder:\n",
    "        new_path = os.path.join(path,i)\n",
    "        list_file = os.listdir(new_path)\n",
    "        for j in range(0,8):\n",
    "            r = []\n",
    "            r.append(os.path.join(new_path,list_file[j]))\n",
    "            r.append(i)\n",
    "            writer1.writerow(r)"
   ]
  },
  {
   "cell_type": "code",
   "execution_count": 3,
   "metadata": {},
   "outputs": [],
   "source": [
    "with open('test.csv', 'w', newline='', encoding='utf-8') as f2:\n",
    "    writer2 = csv.writer(f2)\n",
    "    r = ['path','label']\n",
    "    writer2.writerow(r)\n",
    "    path = 'C:\\\\Users\\\\ASUS\\\\MAI391_Project\\\\data_face'\n",
    "    list_folder = os.listdir(path)\n",
    "    for i in list_folder:\n",
    "        new_path = os.path.join(path,i)\n",
    "        list_file = os.listdir(new_path)\n",
    "        for j in range(8,10):\n",
    "            r = []\n",
    "            r.append(os.path.join(new_path,list_file[j]))\n",
    "            r.append(i)\n",
    "            writer2.writerow(r)"
   ]
  },
  {
   "cell_type": "code",
   "execution_count": 4,
   "metadata": {},
   "outputs": [],
   "source": [
    "train = pd.read_csv(\"train.csv\")\n",
    "test = pd.read_csv(\"test.csv\")\n",
    "#image = cv2.imread(train['path'][0],0)\n",
    "#image = cv2.resize(image,(256,256))\n",
    "#fd, hog_image = hog(image, orientations=8, pixels_per_cell=(16,16),\n",
    "#                    cells_per_block=(1, 1), visualize=True)\n",
    "#sA = sparse.csr_matrix(hog_image)\n",
    "#print(sA)"
   ]
  },
  {
   "cell_type": "code",
   "execution_count": 20,
   "metadata": {},
   "outputs": [],
   "source": [
    "cv2.imshow('Test',hog_image)\n",
    "cv2.waitKey(0)\n",
    "cv2.destroyAllWindows()"
   ]
  },
  {
   "cell_type": "code",
   "execution_count": 5,
   "metadata": {},
   "outputs": [],
   "source": [
    "def extract_feature(img):\n",
    "    lbp = local_binary_pattern(image = img, P=8, R=1, method='default')\n",
    "    a = plt.hist(lbp.flatten(), bins = 256)\n",
    "    b = a[0]\n",
    "    b_max = b.max()\n",
    "    b_min = b.min()\n",
    "    for i in range(0,256):\n",
    "        b[i]  = (b[i]-b_min)/(b_max-b_min)\n",
    "    return b\n",
    "def read_image(df):\n",
    "    X = []\n",
    "    Y = []\n",
    "    for index, row in df.iterrows():\n",
    "        image = cv2.imread(row['path'],0)\n",
    "        image = cv2.resize(image,(256,256))\n",
    "        b = extract_feature(image)\n",
    "        #fd, hog_image = hog(image, orientations=8, pixels_per_cell=(8, 8),\n",
    "        #           cells_per_block=(1, 1), visualize=True)\n",
    "        X.append(b)\n",
    "        Y.append(row[1])\n",
    "    return X,Y"
   ]
  },
  {
   "cell_type": "code",
   "execution_count": 6,
   "metadata": {},
   "outputs": [
    {
     "name": "stdout",
     "output_type": "stream",
     "text": [
      "<class 'numpy.ndarray'>\n",
      "(104, 256)\n"
     ]
    },
    {
     "data": {
      "image/png": "[encoded data removed]",
      "text/plain": [
       "<Figure size 432x288 with 1 Axes>"
      ]
     },
     "metadata": {
      "needs_background": "light"
     },
     "output_type": "display_data"
    }
   ],
   "source": [
    "X_train, Y_train = read_image(train)\n",
    "X_train = np.array(X_train)\n",
    "Y_train = np.array(Y_train)\n",
    "print(type(X_train))\n",
    "print(X_train.shape)"
   ]
  },
  {
   "cell_type": "code",
   "execution_count": 7,
   "metadata": {},
   "outputs": [
    {
     "data": {
      "image/png": "[encoded data removed]",
      "text/plain": [
       "<Figure size 432x288 with 1 Axes>"
      ]
     },
     "metadata": {
      "needs_background": "light"
     },
     "output_type": "display_data"
    }
   ],
   "source": [
    "X_test, Y_test = read_image(test)\n",
    "X_test = np.array(X_test)\n",
    "Y_test = np.array(Y_test)"
   ]
  },
  {
   "cell_type": "code",
   "execution_count": 8,
   "metadata": {},
   "outputs": [
    {
     "name": "stdout",
     "output_type": "stream",
     "text": [
      "(104, 100)\n"
     ]
    }
   ],
   "source": [
    "clf = TruncatedSVD(n_components=100,n_iter=7, random_state=42)\n",
    "X_train_pca = clf.fit_transform(X_train)\n",
    "print(X_train_pca.shape)"
   ]
  },
  {
   "cell_type": "code",
   "execution_count": 10,
   "metadata": {},
   "outputs": [
    {
     "data": {
      "text/plain": [
       "SVC(C=13, kernel='poly')"
      ]
     },
     "execution_count": 10,
     "metadata": {},
     "output_type": "execute_result"
    }
   ],
   "source": [
    "models = svm.SVC(kernel='poly', C = 13)\n",
    "models.fit(X_train,Y_train)"
   ]
  },
  {
   "cell_type": "code",
   "execution_count": 11,
   "metadata": {},
   "outputs": [
    {
     "name": "stdout",
     "output_type": "stream",
     "text": [
      "Model score= 0.7307692307692307\n",
      "Done\n"
     ]
    }
   ],
   "source": [
    "# Check accuracy:\n",
    "print(\"Model score=\", models.score(X_test, Y_test))\n",
    "print(\"Done\")"
   ]
  },
  {
   "cell_type": "code",
   "execution_count": 13,
   "metadata": {},
   "outputs": [
    {
     "name": "stdout",
     "output_type": "stream",
     "text": [
      "['BACH'] BACH\n",
      "['BACH'] BACH\n",
      "['KHANH'] DUY\n",
      "['HIEU'] DUY\n",
      "['HIEU'] HIEU\n",
      "['HIEU'] HIEU\n",
      "['KHANG'] KHANG\n",
      "['KHANG'] KHANG\n",
      "['KHANH'] KHANH\n",
      "['KHANH'] KHANH\n",
      "['KHIEM'] KHIEM\n",
      "['KHIEM'] KHIEM\n",
      "['MINH'] MINH\n",
      "['MINH'] MINH\n",
      "['NHAT'] NHAT\n",
      "['NHAT'] NHAT\n",
      "['PHUC'] PHUC\n",
      "['NHAT'] PHUC\n",
      "['THAI'] QUY\n",
      "['QUY'] QUY\n",
      "['THAI'] THAI\n",
      "['THAI'] THAI\n",
      "['TUAN'] TUAN\n",
      "['KHANH'] TUAN\n",
      "['HIEU'] TUYEN\n",
      "['HIEU'] TUYEN\n"
     ]
    }
   ],
   "source": [
    "for i in range(0,26):\n",
    "    print(models.predict(X_test[i].reshape(1,-1)),Y_test[i])"
   ]
  },
  {
   "cell_type": "code",
   "execution_count": 19,
   "metadata": {},
   "outputs": [
    {
     "name": "stdout",
     "output_type": "stream",
     "text": [
      "<Tile #1 - image_01_01.png>\n"
     ]
    }
   ],
   "source": [
    "a = slice('image.png',6)\n",
    "print(a[0])"
   ]
  },
  {
   "cell_type": "code",
   "execution_count": 25,
   "metadata": {},
   "outputs": [
    {
     "data": {
      "text/plain": [
       "array([[4, 4, 4],\n",
       "       [5, 5, 5],\n",
       "       [6, 6, 6]])"
      ]
     },
     "execution_count": 25,
     "metadata": {},
     "output_type": "execute_result"
    }
   ],
   "source": [
    "a = np.array([[1,1,1,1,1,1],\n",
    "              [2,2,2,2,2,2],\n",
    "              [3,3,3,3,3,3],\n",
    "              [4,4,4,4,4,4],\n",
    "              [5,5,5,5,5,5],\n",
    "              [6,6,6,6,6,6]])\n",
    "a[3:7,3:7]"
   ]
  },
  {
   "cell_type": "code",
   "execution_count": 14,
   "metadata": {},
   "outputs": [],
   "source": [
    "def extract_feature_lbp(img):\n",
    "    windowsize_r = 64\n",
    "    windowsize_c = 64\n",
    "    result = []\n",
    "    for r in range(0,img.shape[0], windowsize_r):\n",
    "        for c in range(0,img.shape[1], windowsize_c):\n",
    "            window = img[r:r+windowsize_r,c:c+windowsize_c]\n",
    "            lbp = np.array(extract_feature(window))\n",
    "            result.append(lbp)\n",
    "    return result\n",
    "def read_image_lbp(df):\n",
    "    X = []\n",
    "    Y = []\n",
    "    for index, row in df.iterrows():\n",
    "        image = cv2.imread(row['path'],0)\n",
    "        image = cv2.resize(image,(256,256))\n",
    "        b = extract_feature_lbp(image)\n",
    "        b = np.array(b)\n",
    "        b = b.flatten()\n",
    "        #fd, hog_image = hog(image, orientations=8, pixels_per_cell=(16, 16),\n",
    "        #           cells_per_block=(1, 1), visualize=True)\n",
    "        X.append(b)\n",
    "        Y.append(row[1])\n",
    "    return X,Y"
   ]
  },
  {
   "cell_type": "code",
   "execution_count": null,
   "metadata": {},
   "outputs": [
    {
     "name": "stdout",
     "output_type": "stream",
     "text": [
      "<class 'numpy.ndarray'>\n",
      "(104, 4096)\n"
     ]
    }
   ],
   "source": [
    "X_train, Y_train = read_image_lbp(train)\n",
    "X_train = np.array(X_train)\n",
    "Y_train = np.array(Y_train)\n",
    "print(type(X_train))\n",
    "print(X_train.shape)\n",
    "X_test, Y_test = read_image_lbp(test)\n",
    "X_test = np.array(X_test)\n",
    "Y_test = np.array(Y_test)"
   ]
  },
  {
   "cell_type": "code",
   "execution_count": 31,
   "metadata": {},
   "outputs": [
    {
     "data": {
      "text/plain": [
       "SVC(C=6, kernel='poly')"
      ]
     },
     "execution_count": 31,
     "metadata": {},
     "output_type": "execute_result"
    }
   ],
   "source": [
    "models = svm.SVC(kernel='poly', C = 13)\n",
    "models.fit(X_train,Y_train)"
   ]
  },
  {
   "cell_type": "code",
   "execution_count": 32,
   "metadata": {},
   "outputs": [
    {
     "name": "stdout",
     "output_type": "stream",
     "text": [
      "Model score= 0.9166666666666666\n",
      "Done\n"
     ]
    }
   ],
   "source": [
    "# Check accuracy:\n",
    "print(\"Model score=\", models.score(X_test, Y_test))\n",
    "print(\"Done\")"
   ]
  },
  {
   "cell_type": "code",
   "execution_count": 33,
   "metadata": {},
   "outputs": [
    {
     "name": "stdout",
     "output_type": "stream",
     "text": [
      "['Hieu'] Hieu\n",
      "['Hieu'] Hieu\n",
      "['Khanh'] Khanh\n",
      "['Khanh'] Khanh\n",
      "['Khiem'] Khiem\n",
      "['Khiem'] Khiem\n",
      "['Phuc'] Phuc\n",
      "['Phuc'] Phuc\n",
      "['Quy'] Quy\n",
      "['Khanh'] Quy\n",
      "['Tuyen'] Tuyen\n",
      "['Tuyen'] Tuyen\n"
     ]
    }
   ],
   "source": [
    "for i in range(0,26):\n",
    "    print(models.predict(X_test[i].reshape(1,-1)),Y_test[i])"
   ]
  },
  {
   "cell_type": "code",
   "execution_count": 46,
   "metadata": {},
   "outputs": [],
   "source": [
    "def read_image_hog(df):\n",
    "    X = []\n",
    "    Y = []\n",
    "    for index, row in df.iterrows():\n",
    "        image = cv2.imread(row['path'],0)\n",
    "        image = cv2.resize(image,(256,256))\n",
    "        fd, hog_image = hog(image, orientations=8, pixels_per_cell=(16, 16),\n",
    "                   cells_per_block=(2, 2), visualize=True)\n",
    "        X.append(fd)\n",
    "        Y.append(row[1])\n",
    "    return X,Y"
   ]
  },
  {
   "cell_type": "code",
   "execution_count": 57,
   "metadata": {},
   "outputs": [
    {
     "name": "stdout",
     "output_type": "stream",
     "text": [
      "(7200,)\n",
      "[0.06639645 0.02008597 0.21331321 ... 0.07302272 0.06183196 0.04858117]\n"
     ]
    }
   ],
   "source": [
    "img = cv2.imread('image.png',0)\n",
    "img = cv2.resize(img,(256,256))\n",
    "fd, hog_image = hog(img, orientations=8, pixels_per_cell=(16, 16),\n",
    "                   cells_per_block=(2, 2), visualize=True)\n",
    "print(fd.shape)\n",
    "print(fd)"
   ]
  },
  {
   "cell_type": "code",
   "execution_count": 53,
   "metadata": {},
   "outputs": [
    {
     "name": "stdout",
     "output_type": "stream",
     "text": [
      "(48,)\n",
      "(48, 7200)\n"
     ]
    }
   ],
   "source": [
    "X_train, Y_train = read_image_hog(train)\n",
    "X_train = np.array(X_train)\n",
    "Y_train = np.array(Y_train)\n",
    "print(Y_train.shape)\n",
    "print(X_train.shape)"
   ]
  },
  {
   "cell_type": "code",
   "execution_count": 54,
   "metadata": {},
   "outputs": [
    {
     "name": "stdout",
     "output_type": "stream",
     "text": [
      "(12, 7200)\n"
     ]
    }
   ],
   "source": [
    "X_test, Y_test = read_image_hog(test)\n",
    "X_test = np.array(X_test)\n",
    "Y_test = np.array(Y_test)\n",
    "print(X_test.shape)"
   ]
  },
  {
   "cell_type": "code",
   "execution_count": 50,
   "metadata": {},
   "outputs": [
    {
     "data": {
      "text/plain": [
       "SVC(C=6, kernel='poly')"
      ]
     },
     "execution_count": 50,
     "metadata": {},
     "output_type": "execute_result"
    }
   ],
   "source": [
    "models = svm.SVC(kernel='poly', C = 6)\n",
    "models.fit(X_train,Y_train)"
   ]
  },
  {
   "cell_type": "code",
   "execution_count": 51,
   "metadata": {},
   "outputs": [
    {
     "name": "stdout",
     "output_type": "stream",
     "text": [
      "Model score= 1.0\n",
      "Done\n"
     ]
    }
   ],
   "source": [
    "# Check accuracy:\n",
    "print(\"Model score=\", models.score(X_test, Y_test))\n",
    "print(\"Done\")"
   ]
  },
  {
   "cell_type": "code",
   "execution_count": 55,
   "metadata": {},
   "outputs": [
    {
     "name": "stdout",
     "output_type": "stream",
     "text": [
      "['Hieu'] Hieu\n",
      "['Hieu'] Hieu\n",
      "['Khanh'] Khanh\n",
      "['Khanh'] Khanh\n",
      "['Khiem'] Khiem\n",
      "['Khiem'] Khiem\n",
      "['Phuc'] Phuc\n",
      "['Phuc'] Phuc\n",
      "['Quy'] Quy\n",
      "['Quy'] Quy\n",
      "['Tuyen'] Tuyen\n",
      "['Tuyen'] Tuyen\n"
     ]
    }
   ],
   "source": [
    "for i in range(0,12):\n",
    "    print(models.predict(X_test[i].reshape(1,-1)),Y_test[i])"
   ]
  },
  {
   "cell_type": "code",
   "execution_count": null,
   "metadata": {},
   "outputs": [],
   "source": [
    "def extract_feature(img):\n",
    "    lbp = local_binary_pattern(image = img, P=8, R=1, method='default')\n",
    "    a = plt.hist(lbp.flatten(), bins = 256)\n",
    "    b = a[0]\n",
    "    b_max = b.max()\n",
    "    b_min = b.min()\n",
    "    for i in range(0,256):\n",
    "        b[i]  = (b[i]-b_min)/(b_max-b_min)\n",
    "    return b"
   ]
  },
  {
   "cell_type": "code",
   "execution_count": 11,
   "metadata": {},
   "outputs": [
    {
     "name": "stdout",
     "output_type": "stream",
     "text": [
      "<class 'numpy.ndarray'>\n",
      "(256,)\n",
      "[4726 1180  223  416  828  167  485  963  243   55   37   58  468   78\n",
      " 1223 1784 1239  445   46   84  197   49  120  128  398   87   60   62\n",
      "  928  119 1909 2027  271   68   13    9   29   10   17   15   33   10\n",
      "    3    6   34    9   39   62  484  101   21   22   70   17   24   32\n",
      "  704   48   21   43 1015   87  581  521  744  183   34   62  171   37\n",
      "   53  104   42   11   10    8   64   13   71  107  209   58    9   10\n",
      "   46    8   10   16   58   20    7   18   80   21  112  179  481   86\n",
      "   11   19   66   20   16   39   41    8    8    5   58   20   57   86\n",
      "  903  145   24   32  115   25   27   35 1054   96   42   53 1133  143\n",
      "  521  549  215  399   28  536   44   53   34  954   14   12    3   26\n",
      "   14   27   37  582   48   91    8   53   10   19    6   82   14   23\n",
      "    7   41   20   27   68  543   41   46    4   16    1   11    6   29\n",
      "    4    6    0    7    6    9    6   62   51   83    9   30    9   10\n",
      "    8   55   20   40   11   51   30   59   70  638  408  793   35  836\n",
      "   65   84   59  929   21   25    6   34   22   26   69  436   83  109\n",
      "    8   68   11   18   13  125   21   27    4   40   25   28   99  584\n",
      " 1176 1779   44  448   91   97   55  449   35   75   10   78   60   79\n",
      "  227  992 1591 1940   65  480  117  173   74  496  597  570   66  606\n",
      "  563  572 1021 6589]\n"
     ]
    }
   ],
   "source": [
    "img = cv2.imread('image.png',0)\n",
    "img = cv2.resize(img,(256,256))\n",
    "lbp = local_binary_pattern(img, P=8, R=1, method='default')\n",
    "ht = np.histogram(lbp, bins=256)\n",
    "htg = np.array(ht[0])\n",
    "print(type(htg))\n",
    "print(htg.shape)\n",
    "print(htg)"
   ]
  },
  {
   "cell_type": "code",
   "execution_count": 16,
   "metadata": {},
   "outputs": [
    {
     "name": "stdout",
     "output_type": "stream",
     "text": [
      "<class 'numpy.ndarray'>\n",
      "(256,)\n",
      "[4.726e+03 1.180e+03 2.230e+02 4.160e+02 8.280e+02 1.670e+02 4.850e+02\n",
      " 9.630e+02 2.430e+02 5.500e+01 3.700e+01 5.800e+01 4.680e+02 7.800e+01\n",
      " 1.223e+03 1.784e+03 1.239e+03 4.450e+02 4.600e+01 8.400e+01 1.970e+02\n",
      " 4.900e+01 1.200e+02 1.280e+02 3.980e+02 8.700e+01 6.000e+01 6.200e+01\n",
      " 9.280e+02 1.190e+02 1.909e+03 2.027e+03 2.710e+02 6.800e+01 1.300e+01\n",
      " 9.000e+00 2.900e+01 1.000e+01 1.700e+01 1.500e+01 3.300e+01 1.000e+01\n",
      " 3.000e+00 6.000e+00 3.400e+01 9.000e+00 3.900e+01 6.200e+01 4.840e+02\n",
      " 1.010e+02 2.100e+01 2.200e+01 7.000e+01 1.700e+01 2.400e+01 3.200e+01\n",
      " 7.040e+02 4.800e+01 2.100e+01 4.300e+01 1.015e+03 8.700e+01 5.810e+02\n",
      " 5.210e+02 7.440e+02 1.830e+02 3.400e+01 6.200e+01 1.710e+02 3.700e+01\n",
      " 5.300e+01 1.040e+02 4.200e+01 1.100e+01 1.000e+01 8.000e+00 6.400e+01\n",
      " 1.300e+01 7.100e+01 1.070e+02 2.090e+02 5.800e+01 9.000e+00 1.000e+01\n",
      " 4.600e+01 8.000e+00 1.000e+01 1.600e+01 5.800e+01 2.000e+01 7.000e+00\n",
      " 1.800e+01 8.000e+01 2.100e+01 1.120e+02 1.790e+02 4.810e+02 8.600e+01\n",
      " 1.100e+01 1.900e+01 6.600e+01 2.000e+01 1.600e+01 3.900e+01 4.100e+01\n",
      " 8.000e+00 8.000e+00 5.000e+00 5.800e+01 2.000e+01 5.700e+01 8.600e+01\n",
      " 9.030e+02 1.450e+02 2.400e+01 3.200e+01 1.150e+02 2.500e+01 2.700e+01\n",
      " 3.500e+01 1.054e+03 9.600e+01 4.200e+01 5.300e+01 1.133e+03 1.430e+02\n",
      " 5.210e+02 5.490e+02 2.150e+02 3.990e+02 2.800e+01 5.360e+02 4.400e+01\n",
      " 5.300e+01 3.400e+01 9.540e+02 1.400e+01 1.200e+01 3.000e+00 2.600e+01\n",
      " 1.400e+01 2.700e+01 3.700e+01 5.820e+02 4.800e+01 9.100e+01 8.000e+00\n",
      " 5.300e+01 1.000e+01 1.900e+01 6.000e+00 8.200e+01 1.400e+01 2.300e+01\n",
      " 7.000e+00 4.100e+01 2.000e+01 2.700e+01 6.800e+01 5.430e+02 4.100e+01\n",
      " 4.600e+01 4.000e+00 1.600e+01 1.000e+00 1.100e+01 6.000e+00 2.900e+01\n",
      " 4.000e+00 6.000e+00 0.000e+00 7.000e+00 6.000e+00 9.000e+00 6.000e+00\n",
      " 6.200e+01 5.100e+01 8.300e+01 9.000e+00 3.000e+01 9.000e+00 1.000e+01\n",
      " 8.000e+00 5.500e+01 2.000e+01 4.000e+01 1.100e+01 5.100e+01 3.000e+01\n",
      " 5.900e+01 7.000e+01 6.380e+02 4.080e+02 7.930e+02 3.500e+01 8.360e+02\n",
      " 6.500e+01 8.400e+01 5.900e+01 9.290e+02 2.100e+01 2.500e+01 6.000e+00\n",
      " 3.400e+01 2.200e+01 2.600e+01 6.900e+01 4.360e+02 8.300e+01 1.090e+02\n",
      " 8.000e+00 6.800e+01 1.100e+01 1.800e+01 1.300e+01 1.250e+02 2.100e+01\n",
      " 2.700e+01 4.000e+00 4.000e+01 2.500e+01 2.800e+01 9.900e+01 5.840e+02\n",
      " 1.176e+03 1.779e+03 4.400e+01 4.480e+02 9.100e+01 9.700e+01 5.500e+01\n",
      " 4.490e+02 3.500e+01 7.500e+01 1.000e+01 7.800e+01 6.000e+01 7.900e+01\n",
      " 2.270e+02 9.920e+02 1.591e+03 1.940e+03 6.500e+01 4.800e+02 1.170e+02\n",
      " 1.730e+02 7.400e+01 4.960e+02 5.970e+02 5.700e+02 6.600e+01 6.060e+02\n",
      " 5.630e+02 5.720e+02 1.021e+03 6.589e+03]\n"
     ]
    },
    {
     "data": {
      "image/png": "[encoded data removed]",
      "text/plain": [
       "<Figure size 432x288 with 1 Axes>"
      ]
     },
     "metadata": {
      "needs_background": "light"
     },
     "output_type": "display_data"
    }
   ],
   "source": [
    "a = plt.hist(lbp.flatten(), bins = 256)\n",
    "htg = np.array(a[0],dtype = np.float64)\n",
    "print(type(htg))\n",
    "print(htg.shape)\n",
    "print(htg)"
   ]
  },
  {
   "cell_type": "code",
   "execution_count": 25,
   "metadata": {},
   "outputs": [],
   "source": [
    "def extract_feature(img):\n",
    "    lbp = local_binary_pattern(image = img, P=8, R=1, method='default')\n",
    "    ht = np.histogram(lbp.flatten(), bins=256)\n",
    "    b = np.array(ht[0],dtype = np.float64)\n",
    "    b_max = b.max()\n",
    "    b_min = b.min()\n",
    "    for i in range(0,256):\n",
    "        b[i]  = (b[i]-b_min)/(b_max-b_min)\n",
    "    return b"
   ]
  },
  {
   "cell_type": "code",
   "execution_count": 26,
   "metadata": {},
   "outputs": [
    {
     "data": {
      "text/plain": [
       "array([7.17256033e-01, 1.79086356e-01, 3.38442859e-02, 6.31355289e-02,\n",
       "       1.25663985e-01, 2.53452724e-02, 7.36075277e-02, 1.46152679e-01,\n",
       "       3.68796479e-02, 8.34724541e-03, 5.61541964e-03, 8.80254970e-03,\n",
       "       7.10274700e-02, 1.18379117e-02, 1.85612384e-01, 2.70754287e-01,\n",
       "       1.88040674e-01, 6.75368038e-02, 6.98133252e-03, 1.27485203e-02,\n",
       "       2.98983154e-02, 7.43663682e-03, 1.82121718e-02, 1.94263166e-02,\n",
       "       6.04037031e-02, 1.32038246e-02, 9.10608590e-03, 9.40962210e-03,\n",
       "       1.40840795e-01, 1.80604037e-02, 2.89725300e-01, 3.07633935e-01,\n",
       "       4.11291547e-02, 1.03202307e-02, 1.97298528e-03, 1.36591289e-03,\n",
       "       4.40127485e-03, 1.51768098e-03, 2.58005767e-03, 2.27652148e-03,\n",
       "       5.00834725e-03, 1.51768098e-03, 4.55304295e-04, 9.10608590e-04,\n",
       "       5.16011534e-03, 1.36591289e-03, 5.91895584e-03, 9.40962210e-03,\n",
       "       7.34557596e-02, 1.53285779e-02, 3.18713007e-03, 3.33889816e-03,\n",
       "       1.06237669e-02, 2.58005767e-03, 3.64243436e-03, 4.85657915e-03,\n",
       "       1.06844741e-01, 7.28486872e-03, 3.18713007e-03, 6.52602823e-03,\n",
       "       1.54044620e-01, 1.32038246e-02, 8.81772651e-02, 7.90711792e-02,\n",
       "       1.12915465e-01, 2.77735620e-02, 5.16011534e-03, 9.40962210e-03,\n",
       "       2.59523448e-02, 5.61541964e-03, 8.04370921e-03, 1.57838822e-02,\n",
       "       6.37426013e-03, 1.66944908e-03, 1.51768098e-03, 1.21414479e-03,\n",
       "       9.71315829e-03, 1.97298528e-03, 1.07755350e-02, 1.62391865e-02,\n",
       "       3.17195326e-02, 8.80254970e-03, 1.36591289e-03, 1.51768098e-03,\n",
       "       6.98133252e-03, 1.21414479e-03, 1.51768098e-03, 2.42828957e-03,\n",
       "       8.80254970e-03, 3.03536197e-03, 1.06237669e-03, 2.73182577e-03,\n",
       "       1.21414479e-02, 3.18713007e-03, 1.69980270e-02, 2.71664896e-02,\n",
       "       7.30004553e-02, 1.30520565e-02, 1.66944908e-03, 2.88359387e-03,\n",
       "       1.00166945e-02, 3.03536197e-03, 2.42828957e-03, 5.91895584e-03,\n",
       "       6.22249203e-03, 1.21414479e-03, 1.21414479e-03, 7.58840492e-04,\n",
       "       8.80254970e-03, 3.03536197e-03, 8.65078161e-03, 1.30520565e-02,\n",
       "       1.37046593e-01, 2.20063743e-02, 3.64243436e-03, 4.85657915e-03,\n",
       "       1.74533313e-02, 3.79420246e-03, 4.09773866e-03, 5.31188344e-03,\n",
       "       1.59963576e-01, 1.45697374e-02, 6.37426013e-03, 8.04370921e-03,\n",
       "       1.71953255e-01, 2.17028381e-02, 7.90711792e-02, 8.33206860e-02,\n",
       "       3.26301411e-02, 6.05554712e-02, 4.24950675e-03, 8.13477007e-02,\n",
       "       6.67779633e-03, 8.04370921e-03, 5.16011534e-03, 1.44786766e-01,\n",
       "       2.12475338e-03, 1.82121718e-03, 4.55304295e-04, 3.94597056e-03,\n",
       "       2.12475338e-03, 4.09773866e-03, 5.61541964e-03, 8.83290332e-02,\n",
       "       7.28486872e-03, 1.38108969e-02, 1.21414479e-03, 8.04370921e-03,\n",
       "       1.51768098e-03, 2.88359387e-03, 9.10608590e-04, 1.24449841e-02,\n",
       "       2.12475338e-03, 3.49066626e-03, 1.06237669e-03, 6.22249203e-03,\n",
       "       3.03536197e-03, 4.09773866e-03, 1.03202307e-02, 8.24100774e-02,\n",
       "       6.22249203e-03, 6.98133252e-03, 6.07072393e-04, 2.42828957e-03,\n",
       "       1.51768098e-04, 1.66944908e-03, 9.10608590e-04, 4.40127485e-03,\n",
       "       6.07072393e-04, 9.10608590e-04, 0.00000000e+00, 1.06237669e-03,\n",
       "       9.10608590e-04, 1.36591289e-03, 9.10608590e-04, 9.40962210e-03,\n",
       "       7.74017302e-03, 1.25967522e-02, 1.36591289e-03, 4.55304295e-03,\n",
       "       1.36591289e-03, 1.51768098e-03, 1.21414479e-03, 8.34724541e-03,\n",
       "       3.03536197e-03, 6.07072393e-03, 1.66944908e-03, 7.74017302e-03,\n",
       "       4.55304295e-03, 8.95431780e-03, 1.06237669e-02, 9.68280467e-02,\n",
       "       6.19213841e-02, 1.20352102e-01, 5.31188344e-03, 1.26878130e-01,\n",
       "       9.86492639e-03, 1.27485203e-02, 8.95431780e-03, 1.40992563e-01,\n",
       "       3.18713007e-03, 3.79420246e-03, 9.10608590e-04, 5.16011534e-03,\n",
       "       3.33889816e-03, 3.94597056e-03, 1.04719988e-02, 6.61708909e-02,\n",
       "       1.25967522e-02, 1.65427227e-02, 1.21414479e-03, 1.03202307e-02,\n",
       "       1.66944908e-03, 2.73182577e-03, 1.97298528e-03, 1.89710123e-02,\n",
       "       3.18713007e-03, 4.09773866e-03, 6.07072393e-04, 6.07072393e-03,\n",
       "       3.79420246e-03, 4.24950675e-03, 1.50250417e-02, 8.86325694e-02,\n",
       "       1.78479284e-01, 2.69995447e-01, 6.67779633e-03, 6.79921081e-02,\n",
       "       1.38108969e-02, 1.47215055e-02, 8.34724541e-03, 6.81438762e-02,\n",
       "       5.31188344e-03, 1.13826074e-02, 1.51768098e-03, 1.18379117e-02,\n",
       "       9.10608590e-03, 1.19896798e-02, 3.44513583e-02, 1.50553954e-01,\n",
       "       2.41463044e-01, 2.94430111e-01, 9.86492639e-03, 7.28486872e-02,\n",
       "       1.77568675e-02, 2.62558810e-02, 1.12308393e-02, 7.52769768e-02,\n",
       "       9.06055547e-02, 8.65078161e-02, 1.00166945e-02, 9.19714676e-02,\n",
       "       8.54454394e-02, 8.68113523e-02, 1.54955228e-01, 1.00000000e+00])"
      ]
     },
     "execution_count": 26,
     "metadata": {},
     "output_type": "execute_result"
    }
   ],
   "source": [
    "a = extract_feature(img)\n",
    "a"
   ]
  },
  {
   "cell_type": "code",
   "execution_count": null,
   "metadata": {},
   "outputs": [],
   "source": []
  }
 ],
 "metadata": {
  "kernelspec": {
   "display_name": "Python 3",
   "language": "python",
   "name": "python3"
  },
  "language_info": {
   "codemirror_mode": {
    "name": "ipython",
    "version": 3
   },
   "file_extension": ".py",
   "mimetype": "text/x-python",
   "name": "python",
   "nbconvert_exporter": "python",
   "pygments_lexer": "ipython3",
   "version": "3.8.5"
  }
 },
 "nbformat": 4,
 "nbformat_minor": 4
}
