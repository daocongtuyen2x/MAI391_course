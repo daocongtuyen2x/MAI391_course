{
 "cells": [
  {
   "cell_type": "code",
   "execution_count": 42,
   "id": "3324978b",
   "metadata": {},
   "outputs": [],
   "source": [
    "from bs4 import BeautifulSoup\n",
    "import urllib.request \n",
    "import re\n",
    "import pandas as pd\n",
    "from collections import Counter"
   ]
  },
  {
   "cell_type": "code",
   "execution_count": 19,
   "id": "b9114a66",
   "metadata": {},
   "outputs": [
    {
     "name": "stdout",
     "output_type": "stream",
     "text": [
      "Enter your link:https://vtc.vn/gap-co-giao-voi-bai-tho-dang-tao-song-tren-mang-xa-hoi-ve-day-hoc-thoi-covid-ar615497.html\n",
      "crawl success\n",
      "những ngày qua  trên mạng xã hội chuyền tay nhau một bài thơ thu hút sự chú ý của nhiều thế hệ học trò cũng như các vị phụ huynh học sinh cô ngô hương  giáo viên trường thcs lê lợi đã chia sẻ một bài thơ về  vị cứu nhân  giúp cô trò trường thcs lê lợi  hưng yên kết thúc sớm  năm học covid  vượt lên mọi khó khăn trong quá trình dạy học ấn tượng đầu tiên chính là nét chữ đẹp rắn rỏi vừa mềm mại điển hình của một giáo viên dạy văn  những dòng tâm sự lắng đọng về một “thời covid ” bài thơ của cô giáo nhận được nhiều lượt chia sẻ và yêu thích của cộng đồng mạng như   thơ hay quá cô giáo ơi   cô giáo dạy văn có khác   cô hương tuyệt vời lắm lắm với bài thơ “gây sóng” của mình  facebook cá nhân của cô ngô hương được các thế hệ học sinh  và cả phụ huynh tìm kiếm  thật thú vị khi tìm thấy cô trên không gian mạng  để biết được những câu chuyện thường ngày ấm áp bên học trò  đồng nghiệp không chỉ giỏi về chuyên môn với hơn   năm dậy học  cô đã được tặng thưởng bằng khen của bộ trưởng bộ giáo dục và đào tạo  bằng khen của chủ tịch ubnd tỉnh hưng yên  cô hương còn có niềm say mê với các phương pháp  công cụ giáo dục trực tuyến mới  điều đó đã mang lại cho cô giải nhất cuộc thi thiết kế bài giảng e learning và danh hiệu chiến sĩ thi đua cấp tỉnh cũng trên trang cá nhân của mình  cô hương đã viết những dòng trăn trở  “dù ở thời điểm  thế hệ nào  những ngày tháng ôn thi tốt nghiệp thpt và đại học luôn là quãng đời khó quên  những tháng ngày ấy  chất chứa bao kỷ niệm  vui buồn  có cả những giọt mồ hôi  nước mắt  đó là những ngày gắng gượng học thêm một bài văn  một giai đoạn lịch sử  giải thêm một đề toán  dù mắt đã díu cả lại  là những ngày thực sự mệt  chỉ muốn ngủ nhưng vẫn phải cố gắng học bài  làm bài để chạm tay vào ước mơ cánh cổng đại học  là những ngày vừa lo lắng nhưng cũng đầy háo hức của đám học trò chuẩn bị bước sang tuổi trưởng thành  nuôi mộng được vùng vẫy biển khơi” năm nay  thầy trò trường thcs lê lợi  hưng yên đã có một phần mềm giáo dục riêng  được thiết kế và tối ưu bởi người việt  đó là phần mềm mschool  học mschool giúp các em học sinh đăng nhập dễ dàng hơn  cô hương không mất hàng giờ đồng hồ như trước kia để có thể điểm danh hết các học sinh vì mschool được tích hợp ngay tính năng lưu lại thời gian học sinh ra vào lớp  cô cũng có thể dễ dàng giao bài tập thực hành  bài về nhà  file ôn luyện dễ dàng ngay trên mschool  khi có bài kiểm tra  thay vì như trước kia giáo viên phải gửi bài qua email  sử dụng phần mềm này  cô hương dễ dàng tạo bài kiểm tra tự luận hoặc trắc nghiệm ngay trên phần mềm  ở mỗi bài kiểm tra cô cũng có thể dễ dàng đặt thời gian bắt đầu và thời gian kết thúc  số lần được phép làm thời gian học một phiên không bị giới hạn   phút như trước kia  cũng không còn hiện tượng hình ảnh bị giật  học sinh bị thoát ra khỏi phòng học liên tục  cô hương có thể dễ dàng tạo các phòng học nhỏ để giúp các học sinh học nhóm dễ dàng trong một tiết học  trong quá trình giảng dạy trực tuyến nếu có bất cứ vấn đề gì luôn có đội kỹ thuật của mobifone trực để hỗ trợ cô và trò  chính nhờ những điểm ưu việt như thế  nên cô và trò trường thcs lê lợi đã nhẹ nhàng khép lại năm học covid một cách hiệu quả một buổi dạy và học của cô hương và học trò với mschool trên nền tảng mobiedu được biết  mschool thuộc nền tảng giáo dục trực tuyến   mobiedu platform   do mobifone phát triển  mobiedu bao gồm cổng khóa học trực tuyến video mskill  giải pháp xây dựng trường học trực tuyến mschool cloud  các giải pháp quản lý cho nhà trường  công cụ ôn luyện và thi thử cho học sinh cổng kết nối mapi dành cho các nhà cung cấp sản phẩm giáo dục số trên thị trường kỳ tốt nghiệp thpt quốc gia sắp tới  mobiedu mang tới cổng thi thửhttps thithu mobiedu vncung cấp một lộ trình đầy đủ để đồng hành cùng thí sinh bước vào cánh cổng đại học  tại đây  thí sinh sẽ làm đề các năm trước và được gợi ý ngành  trường có thể đỗ dựa trên điểm chuẩn của   trường đại học  học viện trên cả nước; được ôn luyện theo cơ chế adaptive learning   tức “hổng kiến thức chỗ nào  hệ thống bổ khuyết chỗ đó”  được vào “phòng thi ảo” để trải nghiệm áp lực thi thật với bộ đề được thẩm định bởi viện quản lý giáo dục việt nam cô ngô hương trong một giờ giảng dạy địa lý trên truyền hình thân thiết và gần gũi qua các giờ giảng dạy đầy tâm huyết  cô hương luôn được các thế hệ học trò yêu mến tâm sự về mình  cô cho biết  “  năm dạy học chưa bao giờ cô lại thấy thương học trò như vậy  cả thầy cô  cha mẹ học sinh đều lo lắng nhưng nhờ có mobifone đồng hành hỗ trợ nên kết quả thật tuyệt vời  dịch covid  đối với ngành giáo dục nói riêng sẽ là một thách thức  nhưng với cô cũng là cơ hội để ngành giáo dục chuyển đổi số  và với những giáo viên như cô  đó là cơ hội được học hỏi thêm những kỹ năng mới  để thích nghi với hoàn cảnh  thích ứng công nghệ mới  nếu làm tốt chúng ta sẽ có một thế hệ công dân mới thành thạo cntt   công dân toàn cầu” mschool cloud là sản phẩm thuộc bộ giải chuyển đổi số giáo dục   mobiedu do mobifone đầu tư phát triển  đã vinh dự đoạt giải sao khuê năm   được vinh danh tại ngày hội cntt chuyển đổi số giáo dục tại hà nội  https mschool mobiedu vn hotline   \n"
     ]
    }
   ],
   "source": [
    "url = input('Enter your link:')\n",
    "\n",
    "def crawl_content(url):\n",
    "\tresponse = urllib.request.urlopen(url) \n",
    "\thtml = response.read()\n",
    "\tsoup = BeautifulSoup(html,\"html.parser\")\n",
    "\ttext = soup.get_text(strip=True)\n",
    "\tpattern = \"(\\(VTC News\\) -)(.+)(\\(adsvtc)?\"\n",
    "\ta = re.search(pattern, text)\n",
    "\tif a == None:\n",
    "\t\treturn\n",
    "\telse:\n",
    "\t\ttext = a.group(2).split('(adsvtc = window.adsvtc || []).push();')[0]\n",
    "\t\ttext = text.lower()\n",
    "\t\ttext = re.sub('[0-9\\!\\@\\#\\$\\%\\^\\&\\*\\(\\)\\_\\.\\+\\-\\,\\?\\:\\/\\\"\\'\\<\\>\\=\\~\\[\\]\\{\\}\\|\\–]+',' ',text)\n",
    "\t\tprint('crawl success')\n",
    "\t\treturn text\n",
    "print(crawl_content(url))"
   ]
  },
  {
   "cell_type": "code",
   "execution_count": null,
   "id": "1799eb0a",
   "metadata": {},
   "outputs": [],
   "source": [
    "with open('corpus.csv', 'w', newline='', encoding='utf-8') as file:\n",
    "\twriter = csv.writer(file)\n",
    "\twriter.writerow([\"content\", \"label\"])\n",
    "\ti = 0\n",
    "\tfor f in topics:\n",
    "\t\tj = 1\n",
    "\t\turls = open(f,'r')\n",
    "\t\tfor url in urls:\n",
    "\t\t\turl = url.strip()\n",
    "\t\t\ttext = crawl_content(url)\n",
    "\t\t\tif text==None:\n",
    "\t\t\t\tcontinue\n",
    "\t\t\telse:\n",
    "\t\t\t\twriter.writerow([text,i])\n",
    "\t\t\t\tj = j+1\n",
    "\t\tprint('done topic num ',i)\n",
    "\t\ti = i+1\n",
    "\t\tprint('topic ',i,' has ',j, 'content!')"
   ]
  },
  {
   "cell_type": "code",
   "execution_count": 25,
   "id": "cd7cf30b",
   "metadata": {},
   "outputs": [],
   "source": [
    "df = pd.read_csv('corpus.csv',encoding='utf-8')"
   ]
  },
  {
   "cell_type": "code",
   "execution_count": 26,
   "id": "314452ab",
   "metadata": {},
   "outputs": [
    {
     "name": "stdout",
     "output_type": "stream",
     "text": [
      "<bound method DataFrame.info of                                                 content  label\n",
      "0     hàng loạt cổ phiếu lớn chìm trong sắc đỏ khiến...      0\n",
      "1     trong kỳ điều chỉnh chiều nay   giá xăng e  ro...      0\n",
      "2     theo hiệp hội quảng cáo  nghị định  nđ cp có n...      0\n",
      "3     nhiều nhà đầu tư tiền ảo yêu cầu elon musk ngừ...      0\n",
      "4     ngày   tỷ phú jeff bezos tuyên bố sẽ rút khỏi ...      0\n",
      "...                                                 ...    ...\n",
      "6019  người dân vùng altai ở nga tin rằng xác ướp từ...      4\n",
      "6020  hôm nay  công ty bảo hiểm nhân thọ bidv metlif...      4\n",
      "6021  một nghiên cứu mới đây của các nhà khoa học tớ...      4\n",
      "6022  ngày   vinai research công bố nghiên cứu thành...      4\n",
      "6023  con sói xám châu âu đơn độc di chuyển xung qua...      4\n",
      "\n",
      "[6024 rows x 2 columns]>\n"
     ]
    }
   ],
   "source": [
    "print(df.info)"
   ]
  },
  {
   "cell_type": "code",
   "execution_count": 27,
   "id": "c735bd32",
   "metadata": {},
   "outputs": [
    {
     "name": "stdout",
     "output_type": "stream",
     "text": [
      "(6024, 2)\n",
      "<class 'pandas.core.frame.DataFrame'>\n",
      "RangeIndex: 6024 entries, 0 to 6023\n",
      "Data columns (total 2 columns):\n",
      " #   Column   Non-Null Count  Dtype \n",
      "---  ------   --------------  ----- \n",
      " 0   content  6024 non-null   object\n",
      " 1   label    6024 non-null   int64 \n",
      "dtypes: int64(1), object(1)\n",
      "memory usage: 94.2+ KB\n",
      "None\n"
     ]
    }
   ],
   "source": [
    "print(df.shape)\n",
    "print(df.info())\n",
    "#dataset inclues 2 columns, 1st is content of news on website vtcnews, 2nd is label for the content.\n",
    "#5 topics, economic = 0, sport = 1, education = 2, heath = 3, and science-technology = 4, each topic includes about 1200 samples"
   ]
  },
  {
   "cell_type": "code",
   "execution_count": 28,
   "id": "fcaa4c85",
   "metadata": {},
   "outputs": [
    {
     "name": "stdout",
     "output_type": "stream",
     "text": [
      "             label\n",
      "count  6024.000000\n",
      "mean      2.009794\n",
      "std       1.409181\n",
      "min       0.000000\n",
      "25%       1.000000\n",
      "50%       2.000000\n",
      "75%       3.000000\n",
      "max       4.000000\n"
     ]
    }
   ],
   "source": [
    "print(df.describe()) # statics about label column of text content, mean ~2.0, that is data distributes uniformly"
   ]
  },
  {
   "cell_type": "code",
   "execution_count": 29,
   "id": "382ed55f",
   "metadata": {},
   "outputs": [
    {
     "name": "stdout",
     "output_type": "stream",
     "text": [
      "0       [hàng, loạt, cổ, phiếu, lớn, chìm, trong, sắc,...\n",
      "1       [trong, kỳ, điều, chỉnh, chiều, nay, giá, xăng...\n",
      "2       [theo, hiệp, hội, quảng, cáo, nghị, định, nđ, ...\n",
      "3       [nhiều, nhà, đầu, tư, tiền, ảo, yêu, cầu, elon...\n",
      "4       [ngày, tỷ, phú, jeff, bezos, tuyên, bố, sẽ, rú...\n",
      "                              ...                        \n",
      "6019    [người, dân, vùng, altai, ở, nga, tin, rằng, x...\n",
      "6020    [hôm, nay, công, ty, bảo, hiểm, nhân, thọ, bid...\n",
      "6021    [một, nghiên, cứu, mới, đây, của, các, nhà, kh...\n",
      "6022    [ngày, vinai, research, công, bố, nghiên, cứu,...\n",
      "6023    [con, sói, xám, châu, âu, đơn, độc, di, chuyển...\n",
      "Name: content, Length: 6024, dtype: object\n"
     ]
    }
   ],
   "source": [
    "def token(row):\n",
    "    row = re.split('\\...|\\n|\\s|\\\"|\\'|\\,|\\.', str(row))\n",
    "    row = list(filter(None, row))\n",
    "    return row\n",
    "\n",
    "df['content'] = df['content'].apply(token)\n",
    "print(df['content'])"
   ]
  },
  {
   "cell_type": "code",
   "execution_count": 39,
   "id": "06eb212d",
   "metadata": {},
   "outputs": [],
   "source": [
    "def most_frequent(List):\n",
    "    return max(set(List), key = List.count)\n",
    "def least_frequent(List):\n",
    "    return min(set(List), key = List.count)\n",
    "\n",
    "df[\"size\"] = df['content'].apply(len)\n",
    "df[\"most\"] = df['content'].apply(most_frequent)\n",
    "df[\"least\"] = df['content'].apply(least_frequent)"
   ]
  },
  {
   "cell_type": "code",
   "execution_count": 40,
   "id": "aec5db1a",
   "metadata": {},
   "outputs": [
    {
     "name": "stdout",
     "output_type": "stream",
     "text": [
      "                                             content  label  size    most  \\\n",
      "0  [hàng, loạt, cổ, phiếu, lớn, chìm, trong, sắc,...      0   376    điểm   \n",
      "1  [trong, kỳ, điều, chỉnh, chiều, nay, giá, xăng...      0   245    đồng   \n",
      "2  [theo, hiệp, hội, quảng, cáo, nghị, định, nđ, ...      0   823   quảng   \n",
      "3  [nhiều, nhà, đầu, tư, tiền, ảo, yêu, cầu, elon...      0   528    tiền   \n",
      "4  [ngày, tỷ, phú, jeff, bezos, tuyên, bố, sẽ, rú...      0   259  amazon   \n",
      "5  [chuỗi, cung, ứng, chuỗi, giá, trị, toàn, cầu,...      0   431   doanh   \n",
      "6  [ngày, đại, diện, tập, đoàn, tài, chính, m...      0   708      mb   \n",
      "7  [đầu, ngày, những, lô, vải, thiều, đầu, tiên, ...      0   543     vải   \n",
      "8  [từ, đầu, năm, đến, nay, giá, lợn, hơi, liên, ...      0   927     giá   \n",
      "9  [giá, mỗi, đồng, tiền, ảo, đã, tăng, mạnh, chỉ...      0   281     usd   \n",
      "\n",
      "   least  \n",
      "0     từ  \n",
      "1     dự  \n",
      "2     vì  \n",
      "3    hãi  \n",
      "4     vì  \n",
      "5   hiệu  \n",
      "6     vì  \n",
      "7  thuận  \n",
      "8  nhuận  \n",
      "9   rằng  \n"
     ]
    }
   ],
   "source": [
    "print(df.head(10))"
   ]
  },
  {
   "cell_type": "code",
   "execution_count": 46,
   "id": "56e35cf0",
   "metadata": {},
   "outputs": [
    {
     "name": "stdout",
     "output_type": "stream",
     "text": [
      "             label         size\n",
      "count  6024.000000  6024.000000\n",
      "mean      2.009794   569.722112\n",
      "std       1.409181   363.919595\n",
      "min       0.000000    10.000000\n",
      "25%       1.000000   324.000000\n",
      "50%       2.000000   454.000000\n",
      "75%       3.000000   731.000000\n",
      "max       4.000000  5161.000000\n"
     ]
    }
   ],
   "source": [
    "print(df.describe())"
   ]
  },
  {
   "cell_type": "code",
   "execution_count": 44,
   "id": "481ffc3c",
   "metadata": {},
   "outputs": [
    {
     "name": "stdout",
     "output_type": "stream",
     "text": [
      "3529      bệnh\n",
      "3530      tính\n",
      "3531    bệnh\n",
      "3532      bệnh\n",
      "3533       gốc\n",
      "         ...  \n",
      "4854        bộ\n",
      "4855        cư\n",
      "4856        có\n",
      "4857     người\n",
      "4858       hcm\n",
      "Name: most, Length: 1330, dtype: object\n"
     ]
    }
   ],
   "source": [
    "print(df[df['label']==3]['most'])"
   ]
  },
  {
   "cell_type": "code",
   "execution_count": 43,
   "id": "f449a372",
   "metadata": {},
   "outputs": [
    {
     "name": "stdout",
     "output_type": "stream",
     "text": [
      "Counter({'điểm': 19, 'giảm': 14, 'tăng': 10, 'cổ': 8, 'phiếu': 8, 'mã': 8, 'vn': 7, 'hàng': 6, 'trong': 6, 'index': 6, 'phiên': 6, 'số': 6, 'sắc': 5, 'chỉ': 5, 'xuống': 5, 'giá': 5, 'loạt': 4, 'lớn': 4, 'đỏ': 4, 'khiến': 4, 'hơn': 4, 'và': 4, 'giao': 4, 'với': 4, 'thị': 4, 'trường': 4, 'chìm': 3, 'lực': 3, 'bán': 3, 'hose': 3, 'ngân': 3, 'lên': 3, 'như': 3, 'sàn': 3, 'dịch': 3, 'tiếp': 2, 'áp': 2, 'trên': 2, 'hiện': 2, 'một': 2, 'các': 2, 'duy': 2, 'trì': 2, 'được': 2, 'h': 2, 'đứng': 2, 'sáng': 2, 'đã': 2, 'khi': 2, 'fpt': 2, 'hpg': 2, 'msn': 2, 'đồng': 2, 'có': 2, 'ảnh': 2, 'mạnh': 2, 'toàn': 2, 'chứng': 2, 'khoán': 2, 'thép': 2, 'bất': 2, 'động': 2, 'thanh': 2, 'khoản': 2, 'eib': 2, 'dòng': 2, 'về': 1, 'sát': 1, 'mốc': 1, 'sau': 1, 'liên': 1, 'thiết': 1, 'lập': 1, 'đỉnh': 1, 'mới': 1, 'diện': 1, 'rộng': 1, 'xuất': 1, 'ngay': 1, 'từ': 1, 'sớm': 1, 'dịchchứng': 1, 'khoánsáng': 1, 'nay': 1, 'tuy': 1, 'nhiên': 1, 'nhờ': 1, 'sự': 1, 'bứt': 1, 'phá': 1, 'của': 1, 'nên': 1, 'vẫn': 1, 'xanh': 1, 'lúc': 1, 'indexgiảm': 1, 'nhẹ': 1, 'chiếm': 1, 'ưu': 1, 'thế': 1, 'rổ': 1, 'so': 1, 'tham': 1, 'chiếu': 1, 'cuối': 1, 'đáng': 1, 'kể': 1, 'nhiều': 1, 'gas': 1, 'tạm': 1, 'dừng': 1, 'minh': 1, 'họa': 1, 'ttxvn': 1, 'bước': 1, 'vào': 1, 'chiều': 1, 'gia': 1, 'mẽ': 1, 'sản…hầu': 1, 'hết': 1, 'đều': 1, 'sâu': 1, 'tại': 1, 'thời': 1, 'tượng': 1, 'nghẽn': 1, 'lệnh': 1, 'tục': 1, 'xảy': 1, 'ra': 1, 'do': 1, 'nhà': 1, 'đầu': 1, 'tư': 1, 'đẩy': 1, 'chốt': 1, 'lời': 1, 'nhanh': 1, 'chóng': 1, 'kết': 1, 'thúc': 1, 'biên': 1, 'độ': 1, 'thu': 1, 'hẹp': 1, 'chút': 1, 'ít': 1, 'vic': 1, 'vnm': 1, 'sab': 1, 'hvn': 1, 'hưởng': 1, 'không': 1, 'nhỏ': 1, 'tới': 1, 'chung': 1, 'nhóm': 1, 'sản': 1, 'xây': 1, 'dựng': 1, 'dầu': 1, 'khí': 1, 'cũng': 1, 'thêm': 1, 'phần': 1, 'ảm': 1, 'đạm': 1, 'tích': 1, 'cực': 1, 'là': 1, 'bvh': 1, 'ree': 1, 'stb': 1, 'nvl…ngược': 1, 'thậm': 1, 'chí': 1, 'kịch': 1, 'trần': 1, 'đó': 1, 'sốhnx': 1, 'indexcũng': 1, 'upcom': 1, 'ngược': 1, 'mức': 1, 'cao': 1, 'trị': 1, 'đạt': 1, 'tỷ': 1})\n"
     ]
    }
   ],
   "source": [
    "count = Counter(df['content'][0])\n",
    "print(count)"
   ]
  },
  {
   "cell_type": "code",
   "execution_count": null,
   "id": "c9124e8e",
   "metadata": {},
   "outputs": [],
   "source": []
  }
 ],
 "metadata": {
  "kernelspec": {
   "display_name": "python3ss",
   "language": "python",
   "name": "python3ss"
  },
  "language_info": {
   "codemirror_mode": {
    "name": "ipython",
    "version": 3
   },
   "file_extension": ".py",
   "mimetype": "text/x-python",
   "name": "python",
   "nbconvert_exporter": "python",
   "pygments_lexer": "ipython3",
   "version": "3.7.10"
  }
 },
 "nbformat": 4,
 "nbformat_minor": 5
}
