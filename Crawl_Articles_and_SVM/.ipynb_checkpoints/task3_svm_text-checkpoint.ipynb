{
 "cells": [
  {
   "cell_type": "code",
   "execution_count": null,
   "metadata": {},
   "outputs": [],
   "source": [
    "# import neccessary libraries\n",
    "import pandas as pd \n",
    "import re\n",
    "from nltk import ngrams\n",
    "from underthesea import word_tokenize\n",
    "from sklearn import svm\n",
    "from sklearn.feature_extraction.text import TfidfVectorizer\n",
    "from sklearn.externals import joblib\n",
    "from sklearn.model_selection import train_test_split\n",
    "from sklearn import metrics\n",
    "import os\n",
    "from sklearn.model_selection import GridSearchCV\n",
    "from bs4 import BeautifulSoup\n",
    "import urllib.request\n",
    "from sklearn.decomposition import PCA\n",
    "from sklearn.decomposition import TruncatedSVD\n",
    "from scipy import sparse as sp"
   ]
  },
  {
   "cell_type": "code",
   "execution_count": null,
   "metadata": {},
   "outputs": [],
   "source": []
  },
  {
   "cell_type": "code",
   "execution_count": null,
   "metadata": {},
   "outputs": [],
   "source": [
    "emb = None\n",
    "df = pd.read_csv('corpus.csv',encoding='utf-8') # Reading file news dataset with encoding mode utf-8 for Vietnamese\n",
    "print(df.head(10))\n",
    "print(df.shape) \n",
    "# The corpus includes 6024 articles of vtc news, and label 0: economy, 1: sport, 2: education, 3: health, 4: technology"
   ]
  },
  {
   "cell_type": "code",
   "execution_count": null,
   "metadata": {},
   "outputs": [],
   "source": [
    "def tokenizer(row):\n",
    "    '''This function will tokenize a sentence in corpus to meaningful phrases'''\n",
    "    return word_tokenize(row, format=\"text\")\n",
    "def embedding(X_train, X_test):\n",
    "    '''This function will input tokenized words in train and text data to make embedding vector for documents'''\n",
    "    global  emb\n",
    "    emb = TfidfVectorizer(min_df=5, max_df=0.8,max_features=3000,sublinear_tf=True)\n",
    "    emb.fit(X_train)\n",
    "    X_train =  emb.transform(X_train)\n",
    "    X_test = emb.transform(X_test)\n",
    "\n",
    "    # Save pkl file\n",
    "    joblib.dump(emb, 'tfidf.pkl')\n",
    "    return X_train, X_test"
   ]
  },
  {
   "cell_type": "code",
   "execution_count": null,
   "metadata": {},
   "outputs": [],
   "source": [
    "df[\"content\"] = df[\"content\"].apply(tokenizer)\n",
    "print(df['content'])"
   ]
  },
  {
   "cell_type": "code",
   "execution_count": null,
   "metadata": {},
   "outputs": [],
   "source": [
    "X_train,X_test,y_train,y_test = train_test_split(df[\"content\"],df[\"label\"],test_size=0.2, random_state=42)"
   ]
  },
  {
   "cell_type": "code",
   "execution_count": null,
   "metadata": {},
   "outputs": [],
   "source": [
    "X_train,X_test  = embedding(X_train, X_test)\n",
    "print(X_train)\n",
    "print(X_train.shape)\n",
    "print(type(X_train))"
   ]
  },
  {
   "cell_type": "code",
   "execution_count": null,
   "metadata": {},
   "outputs": [],
   "source": [
    "model = svm.SVC(kernel='linear', C = 5)\n",
    "model.fit(X_train,y_train)\n",
    "joblib.dump(model, 'saved_model.pkl')"
   ]
  },
  {
   "cell_type": "code",
   "execution_count": null,
   "metadata": {},
   "outputs": [],
   "source": [
    "# Check accuracy:\n",
    "print(\"Model score=\", model.score(X_test, y_test))\n",
    "print(\"Done\")"
   ]
  },
  {
   "cell_type": "code",
   "execution_count": null,
   "metadata": {},
   "outputs": [],
   "source": [
    "def crawl(url):\n",
    "    response = urllib.request.urlopen(url) \n",
    "    html = response.read()\n",
    "    soup = BeautifulSoup(html,  \"html.parser\")\n",
    "    text = soup.get_text(strip=True)\n",
    "    pattern = \"(\\(VTC News\\) -)(.+)(\\(adsvtc)?\"\n",
    "    a = re.search(pattern, text)\n",
    "    if a==None:\n",
    "        print('! error, could not find the structure defined before!')\n",
    "    else:\n",
    "        text = a.group(2).split('(adsvtc = window.adsvtc || []).push();')[0]\n",
    "        text = text.lower()\n",
    "        text = re.sub('[0-9\\\"\"\\!\\@\\#\\$\\%\\^\\&\\*\\(\\)\\_\\.\\+\\-\\,\\?\\:\\/\"\\'\\<\\>\\=\\~\\[\\]\\{\\}\\|\\–\\;]+',' ',text)\n",
    "    return text\n",
    "\n",
    "def analyze(re):\n",
    "    if re==0:\n",
    "        print('Your news is about economic')\n",
    "    if re==1:\n",
    "        print('Your news is about sport')\n",
    "    if re==2:\n",
    "        print('Your news is about education')\n",
    "    if re==3:\n",
    "        print('Your news is about health')\n",
    "    if re==4:\n",
    "        print('Your news is about science, technology')\n"
   ]
  },
  {
   "cell_type": "code",
   "execution_count": null,
   "metadata": {},
   "outputs": [],
   "source": [
    "url = input('Enter url to the news:')\n",
    "data = crawl(url)\n",
    "print(data)\n",
    "data_frame = pd.Series(data)\n",
    "data_frame = pd.DataFrame(data_frame)"
   ]
  },
  {
   "cell_type": "code",
   "execution_count": null,
   "metadata": {},
   "outputs": [],
   "source": [
    "# 3. Tokenizer\n",
    "data_frame[0] = data_frame[0].apply(tokenizer)"
   ]
  },
  {
   "cell_type": "code",
   "execution_count": null,
   "metadata": {},
   "outputs": [],
   "source": [
    "X_val = data_frame[0]\n",
    "emb = joblib.load('tfidf.pkl')\n",
    "X_val = emb.transform(X_val)"
   ]
  },
  {
   "cell_type": "code",
   "execution_count": null,
   "metadata": {},
   "outputs": [],
   "source": [
    "model = joblib.load('saved_model.pkl')\n",
    "result = model.predict(X_val)\n",
    "print(analyze(result))\n",
    "print(\"All done\")"
   ]
  },
  {
   "cell_type": "code",
   "execution_count": null,
   "metadata": {},
   "outputs": [],
   "source": []
  },
  {
   "cell_type": "code",
   "execution_count": null,
   "metadata": {},
   "outputs": [],
   "source": []
  },
  {
   "cell_type": "code",
   "execution_count": null,
   "metadata": {
    "scrolled": true
   },
   "outputs": [],
   "source": []
  },
  {
   "cell_type": "code",
   "execution_count": null,
   "metadata": {},
   "outputs": [],
   "source": []
  }
 ],
 "metadata": {
  "kernelspec": {
   "display_name": "python3ss",
   "language": "python",
   "name": "python3ss"
  },
  "language_info": {
   "codemirror_mode": {
    "name": "ipython",
    "version": 3
   },
   "file_extension": ".py",
   "mimetype": "text/x-python",
   "name": "python",
   "nbconvert_exporter": "python",
   "pygments_lexer": "ipython3",
   "version": "3.7.10"
  }
 },
 "nbformat": 4,
 "nbformat_minor": 5
}
